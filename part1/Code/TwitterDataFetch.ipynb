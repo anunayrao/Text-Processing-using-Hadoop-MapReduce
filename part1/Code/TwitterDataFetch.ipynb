{
 "cells": [
  {
   "cell_type": "code",
   "execution_count": 1,
   "metadata": {},
   "outputs": [],
   "source": [
    "import tweepy\n",
    "import csv\n",
    "import json\n",
    "import pandas\n",
    "from tweepy import OAuthHandler\n",
    "from tweepy import API\n",
    "from tweepy import Cursor"
   ]
  },
  {
   "cell_type": "code",
   "execution_count": null,
   "metadata": {},
   "outputs": [],
   "source": [
    "auth = tweepy.OAuthHandler(\"CG8Jjc0cen7rdobF11isPAgiE\" , \"NV0C0sY3gpFxXMqapFgqBtVeS1J8pFLqx3MIOH1w93YYfW5UAg\")\n",
    "auth.set_access_token(\"1081628710455910401-GnYdBzqW7irrG7C90Z9VgYpt88MpRw\" ,\"K5BQLgDxfOhmIdSG5rT7sVu3pIl7OooEJO6slneydH3as\")\n",
    "api = tweepy.API(auth,wait_on_rate_limit =True,wait_on_rate_limit_notify = True)"
   ]
  },
  {
   "cell_type": "code",
   "execution_count": null,
   "metadata": {},
   "outputs": [],
   "source": [
    "search_word = \"football\"+\"-filter:retweets\""
   ]
  },
  {
   "cell_type": "code",
   "execution_count": null,
   "metadata": {},
   "outputs": [],
   "source": [
    "count =0\n",
    "csvFile = open('football.txt', 'a')\n",
    "csvWriter = csv.writer(csvFile)\n",
    "for tweet in tweepy.Cursor(api.search,q=search_word,\n",
    "                           tweet_mode='extended',lang=\"en\",\n",
    "                           since=\"2019-01-01\").items(4000):\n",
    "    csvWriter.writerow([tweet.full_text.encode('utf-8')])\n",
    "    count = count + 1\n",
    "\n",
    "csvFile.close()\n",
    "print(count)"
   ]
  },
  {
   "cell_type": "code",
   "execution_count": null,
   "metadata": {},
   "outputs": [],
   "source": []
  }
 ],
 "metadata": {
  "kernelspec": {
   "display_name": "Python 3",
   "language": "python",
   "name": "python3"
  },
  "language_info": {
   "codemirror_mode": {
    "name": "ipython",
    "version": 3
   },
   "file_extension": ".py",
   "mimetype": "text/x-python",
   "name": "python",
   "nbconvert_exporter": "python",
   "pygments_lexer": "ipython3",
   "version": "3.6.5"
  }
 },
 "nbformat": 4,
 "nbformat_minor": 2
}
